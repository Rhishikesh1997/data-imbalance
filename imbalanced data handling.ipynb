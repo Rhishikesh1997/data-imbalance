{
 "cells": [
  {
   "cell_type": "markdown",
   "id": "2b2b320a",
   "metadata": {},
   "source": [
    "# model training on imbalanced data"
   ]
  },
  {
   "cell_type": "code",
   "execution_count": 116,
   "id": "c7191ba7",
   "metadata": {},
   "outputs": [],
   "source": [
    "#import necessary libraries\n",
    "import pandas as pd\n",
    "import tensorflow as tf\n",
    "from tensorflow.keras.layers import Dropout\n",
    "from sklearn.model_selection import train_test_split\n",
    "from sklearn.metrics import classification_report\n",
    "import scikitplot as skplt #pip install scikit-plot==0.3.7\n",
    "import numpy as np\n",
    "import seaborn as sns\n",
    "from sklearn.utils import resample\n",
    "import matplotlib.pyplot as plt\n",
    "from sklearn import preprocessing"
   ]
  },
  {
   "cell_type": "code",
   "execution_count": 117,
   "id": "46488cee",
   "metadata": {},
   "outputs": [],
   "source": [
    "#load our dataset\n",
    "data=pd.read_csv(\"/home/admin-pc/Documents/work/data/aug_train.csv\")"
   ]
  },
  {
   "cell_type": "code",
   "execution_count": 118,
   "id": "ee97dbd8",
   "metadata": {},
   "outputs": [
    {
     "data": {
      "text/html": [
       "<div>\n",
       "<style scoped>\n",
       "    .dataframe tbody tr th:only-of-type {\n",
       "        vertical-align: middle;\n",
       "    }\n",
       "\n",
       "    .dataframe tbody tr th {\n",
       "        vertical-align: top;\n",
       "    }\n",
       "\n",
       "    .dataframe thead th {\n",
       "        text-align: right;\n",
       "    }\n",
       "</style>\n",
       "<table border=\"1\" class=\"dataframe\">\n",
       "  <thead>\n",
       "    <tr style=\"text-align: right;\">\n",
       "      <th></th>\n",
       "      <th>id</th>\n",
       "      <th>Gender</th>\n",
       "      <th>Age</th>\n",
       "      <th>Driving_License</th>\n",
       "      <th>Region_Code</th>\n",
       "      <th>Previously_Insured</th>\n",
       "      <th>Vehicle_Age</th>\n",
       "      <th>Vehicle_Damage</th>\n",
       "      <th>Annual_Premium</th>\n",
       "      <th>Policy_Sales_Channel</th>\n",
       "      <th>Vintage</th>\n",
       "      <th>Response</th>\n",
       "    </tr>\n",
       "  </thead>\n",
       "  <tbody>\n",
       "    <tr>\n",
       "      <th>0</th>\n",
       "      <td>167647</td>\n",
       "      <td>Male</td>\n",
       "      <td>22</td>\n",
       "      <td>1</td>\n",
       "      <td>7.0</td>\n",
       "      <td>1</td>\n",
       "      <td>&lt; 1 Year</td>\n",
       "      <td>No</td>\n",
       "      <td>2630.0</td>\n",
       "      <td>152.0</td>\n",
       "      <td>16</td>\n",
       "      <td>0</td>\n",
       "    </tr>\n",
       "    <tr>\n",
       "      <th>1</th>\n",
       "      <td>17163</td>\n",
       "      <td>Male</td>\n",
       "      <td>42</td>\n",
       "      <td>1</td>\n",
       "      <td>28.0</td>\n",
       "      <td>0</td>\n",
       "      <td>1-2 Year</td>\n",
       "      <td>Yes</td>\n",
       "      <td>43327.0</td>\n",
       "      <td>26.0</td>\n",
       "      <td>135</td>\n",
       "      <td>0</td>\n",
       "    </tr>\n",
       "    <tr>\n",
       "      <th>2</th>\n",
       "      <td>32023</td>\n",
       "      <td>Female</td>\n",
       "      <td>66</td>\n",
       "      <td>1</td>\n",
       "      <td>33.0</td>\n",
       "      <td>0</td>\n",
       "      <td>1-2 Year</td>\n",
       "      <td>Yes</td>\n",
       "      <td>35841.0</td>\n",
       "      <td>124.0</td>\n",
       "      <td>253</td>\n",
       "      <td>0</td>\n",
       "    </tr>\n",
       "    <tr>\n",
       "      <th>3</th>\n",
       "      <td>87447</td>\n",
       "      <td>Female</td>\n",
       "      <td>22</td>\n",
       "      <td>1</td>\n",
       "      <td>33.0</td>\n",
       "      <td>0</td>\n",
       "      <td>&lt; 1 Year</td>\n",
       "      <td>No</td>\n",
       "      <td>27645.0</td>\n",
       "      <td>152.0</td>\n",
       "      <td>69</td>\n",
       "      <td>0</td>\n",
       "    </tr>\n",
       "    <tr>\n",
       "      <th>4</th>\n",
       "      <td>501933</td>\n",
       "      <td>Male</td>\n",
       "      <td>28</td>\n",
       "      <td>1</td>\n",
       "      <td>46.0</td>\n",
       "      <td>1</td>\n",
       "      <td>&lt; 1 Year</td>\n",
       "      <td>No</td>\n",
       "      <td>29023.0</td>\n",
       "      <td>152.0</td>\n",
       "      <td>211</td>\n",
       "      <td>0</td>\n",
       "    </tr>\n",
       "  </tbody>\n",
       "</table>\n",
       "</div>"
      ],
      "text/plain": [
       "       id  Gender  Age  Driving_License  Region_Code  Previously_Insured  \\\n",
       "0  167647    Male   22                1          7.0                   1   \n",
       "1   17163    Male   42                1         28.0                   0   \n",
       "2   32023  Female   66                1         33.0                   0   \n",
       "3   87447  Female   22                1         33.0                   0   \n",
       "4  501933    Male   28                1         46.0                   1   \n",
       "\n",
       "  Vehicle_Age Vehicle_Damage  Annual_Premium  Policy_Sales_Channel  Vintage  \\\n",
       "0    < 1 Year             No          2630.0                 152.0       16   \n",
       "1    1-2 Year            Yes         43327.0                  26.0      135   \n",
       "2    1-2 Year            Yes         35841.0                 124.0      253   \n",
       "3    < 1 Year             No         27645.0                 152.0       69   \n",
       "4    < 1 Year             No         29023.0                 152.0      211   \n",
       "\n",
       "   Response  \n",
       "0         0  \n",
       "1         0  \n",
       "2         0  \n",
       "3         0  \n",
       "4         0  "
      ]
     },
     "execution_count": 118,
     "metadata": {},
     "output_type": "execute_result"
    }
   ],
   "source": [
    "data.head()"
   ]
  },
  {
   "cell_type": "code",
   "execution_count": 119,
   "id": "0e29da20",
   "metadata": {},
   "outputs": [],
   "source": [
    "data.drop(['id'],axis=1,inplace=True)"
   ]
  },
  {
   "cell_type": "code",
   "execution_count": 120,
   "id": "124bb612",
   "metadata": {},
   "outputs": [
    {
     "data": {
      "text/html": [
       "<div>\n",
       "<style scoped>\n",
       "    .dataframe tbody tr th:only-of-type {\n",
       "        vertical-align: middle;\n",
       "    }\n",
       "\n",
       "    .dataframe tbody tr th {\n",
       "        vertical-align: top;\n",
       "    }\n",
       "\n",
       "    .dataframe thead th {\n",
       "        text-align: right;\n",
       "    }\n",
       "</style>\n",
       "<table border=\"1\" class=\"dataframe\">\n",
       "  <thead>\n",
       "    <tr style=\"text-align: right;\">\n",
       "      <th></th>\n",
       "      <th>Gender</th>\n",
       "      <th>Age</th>\n",
       "      <th>Driving_License</th>\n",
       "      <th>Region_Code</th>\n",
       "      <th>Previously_Insured</th>\n",
       "      <th>Vehicle_Age</th>\n",
       "      <th>Vehicle_Damage</th>\n",
       "      <th>Annual_Premium</th>\n",
       "      <th>Policy_Sales_Channel</th>\n",
       "      <th>Vintage</th>\n",
       "      <th>Response</th>\n",
       "    </tr>\n",
       "  </thead>\n",
       "  <tbody>\n",
       "    <tr>\n",
       "      <th>0</th>\n",
       "      <td>Male</td>\n",
       "      <td>22</td>\n",
       "      <td>1</td>\n",
       "      <td>7.0</td>\n",
       "      <td>1</td>\n",
       "      <td>&lt; 1 Year</td>\n",
       "      <td>No</td>\n",
       "      <td>2630.0</td>\n",
       "      <td>152.0</td>\n",
       "      <td>16</td>\n",
       "      <td>0</td>\n",
       "    </tr>\n",
       "    <tr>\n",
       "      <th>1</th>\n",
       "      <td>Male</td>\n",
       "      <td>42</td>\n",
       "      <td>1</td>\n",
       "      <td>28.0</td>\n",
       "      <td>0</td>\n",
       "      <td>1-2 Year</td>\n",
       "      <td>Yes</td>\n",
       "      <td>43327.0</td>\n",
       "      <td>26.0</td>\n",
       "      <td>135</td>\n",
       "      <td>0</td>\n",
       "    </tr>\n",
       "    <tr>\n",
       "      <th>2</th>\n",
       "      <td>Female</td>\n",
       "      <td>66</td>\n",
       "      <td>1</td>\n",
       "      <td>33.0</td>\n",
       "      <td>0</td>\n",
       "      <td>1-2 Year</td>\n",
       "      <td>Yes</td>\n",
       "      <td>35841.0</td>\n",
       "      <td>124.0</td>\n",
       "      <td>253</td>\n",
       "      <td>0</td>\n",
       "    </tr>\n",
       "    <tr>\n",
       "      <th>3</th>\n",
       "      <td>Female</td>\n",
       "      <td>22</td>\n",
       "      <td>1</td>\n",
       "      <td>33.0</td>\n",
       "      <td>0</td>\n",
       "      <td>&lt; 1 Year</td>\n",
       "      <td>No</td>\n",
       "      <td>27645.0</td>\n",
       "      <td>152.0</td>\n",
       "      <td>69</td>\n",
       "      <td>0</td>\n",
       "    </tr>\n",
       "    <tr>\n",
       "      <th>4</th>\n",
       "      <td>Male</td>\n",
       "      <td>28</td>\n",
       "      <td>1</td>\n",
       "      <td>46.0</td>\n",
       "      <td>1</td>\n",
       "      <td>&lt; 1 Year</td>\n",
       "      <td>No</td>\n",
       "      <td>29023.0</td>\n",
       "      <td>152.0</td>\n",
       "      <td>211</td>\n",
       "      <td>0</td>\n",
       "    </tr>\n",
       "  </tbody>\n",
       "</table>\n",
       "</div>"
      ],
      "text/plain": [
       "   Gender  Age  Driving_License  Region_Code  Previously_Insured Vehicle_Age  \\\n",
       "0    Male   22                1          7.0                   1    < 1 Year   \n",
       "1    Male   42                1         28.0                   0    1-2 Year   \n",
       "2  Female   66                1         33.0                   0    1-2 Year   \n",
       "3  Female   22                1         33.0                   0    < 1 Year   \n",
       "4    Male   28                1         46.0                   1    < 1 Year   \n",
       "\n",
       "  Vehicle_Damage  Annual_Premium  Policy_Sales_Channel  Vintage  Response  \n",
       "0             No          2630.0                 152.0       16         0  \n",
       "1            Yes         43327.0                  26.0      135         0  \n",
       "2            Yes         35841.0                 124.0      253         0  \n",
       "3             No         27645.0                 152.0       69         0  \n",
       "4             No         29023.0                 152.0      211         0  "
      ]
     },
     "execution_count": 120,
     "metadata": {},
     "output_type": "execute_result"
    }
   ],
   "source": [
    "data.head()"
   ]
  },
  {
   "cell_type": "code",
   "execution_count": 121,
   "id": "29f9ea9b",
   "metadata": {},
   "outputs": [
    {
     "data": {
      "text/plain": [
       "0    319553\n",
       "1     62601\n",
       "Name: Response, dtype: int64"
      ]
     },
     "execution_count": 121,
     "metadata": {},
     "output_type": "execute_result"
    }
   ],
   "source": [
    "#lets see the number of data samples belong to the specific class\n",
    "data['Response'].value_counts()"
   ]
  },
  {
   "cell_type": "code",
   "execution_count": 122,
   "id": "560aa378",
   "metadata": {},
   "outputs": [
    {
     "data": {
      "text/plain": [
       "<matplotlib.axes._subplots.AxesSubplot at 0x7f75405c8748>"
      ]
     },
     "execution_count": 122,
     "metadata": {},
     "output_type": "execute_result"
    },
    {
     "data": {
      "image/png": "[encoded data removed]",
      "text/plain": [
       "<Figure size 432x288 with 1 Axes>"
      ]
     },
     "metadata": {
      "needs_background": "light"
     },
     "output_type": "display_data"
    }
   ],
   "source": [
    "sns.countplot(x=data[\"Response\"])\n"
   ]
  },
  {
   "cell_type": "code",
   "execution_count": 123,
   "id": "a2732cef",
   "metadata": {},
   "outputs": [],
   "source": [
    "#encode categorical variable with the help of label encoder\n",
    "label_encoder = preprocessing.LabelEncoder()\n",
    "\n",
    "# Encode categorical columns.\n",
    "data['Gender']= label_encoder.fit_transform(data['Gender'])\n",
    "data['Vehicle_Age']= label_encoder.fit_transform(data['Vehicle_Age'])\n",
    "data['Vehicle_Damage']= label_encoder.fit_transform(data['Vehicle_Damage'])\n",
    "\n",
    "\n"
   ]
  },
  {
   "cell_type": "code",
   "execution_count": 58,
   "id": "4baa86d4",
   "metadata": {},
   "outputs": [
    {
     "data": {
      "text/html": [
       "<div>\n",
       "<style scoped>\n",
       "    .dataframe tbody tr th:only-of-type {\n",
       "        vertical-align: middle;\n",
       "    }\n",
       "\n",
       "    .dataframe tbody tr th {\n",
       "        vertical-align: top;\n",
       "    }\n",
       "\n",
       "    .dataframe thead th {\n",
       "        text-align: right;\n",
       "    }\n",
       "</style>\n",
       "<table border=\"1\" class=\"dataframe\">\n",
       "  <thead>\n",
       "    <tr style=\"text-align: right;\">\n",
       "      <th></th>\n",
       "      <th>Gender</th>\n",
       "      <th>Age</th>\n",
       "      <th>Driving_License</th>\n",
       "      <th>Region_Code</th>\n",
       "      <th>Previously_Insured</th>\n",
       "      <th>Vehicle_Age</th>\n",
       "      <th>Vehicle_Damage</th>\n",
       "      <th>Annual_Premium</th>\n",
       "      <th>Policy_Sales_Channel</th>\n",
       "      <th>Vintage</th>\n",
       "      <th>Response</th>\n",
       "    </tr>\n",
       "  </thead>\n",
       "  <tbody>\n",
       "    <tr>\n",
       "      <th>0</th>\n",
       "      <td>1</td>\n",
       "      <td>22</td>\n",
       "      <td>1</td>\n",
       "      <td>7.0</td>\n",
       "      <td>1</td>\n",
       "      <td>1</td>\n",
       "      <td>0</td>\n",
       "      <td>2630.0</td>\n",
       "      <td>152.0</td>\n",
       "      <td>16</td>\n",
       "      <td>0</td>\n",
       "    </tr>\n",
       "    <tr>\n",
       "      <th>1</th>\n",
       "      <td>1</td>\n",
       "      <td>42</td>\n",
       "      <td>1</td>\n",
       "      <td>28.0</td>\n",
       "      <td>0</td>\n",
       "      <td>0</td>\n",
       "      <td>1</td>\n",
       "      <td>43327.0</td>\n",
       "      <td>26.0</td>\n",
       "      <td>135</td>\n",
       "      <td>0</td>\n",
       "    </tr>\n",
       "    <tr>\n",
       "      <th>2</th>\n",
       "      <td>0</td>\n",
       "      <td>66</td>\n",
       "      <td>1</td>\n",
       "      <td>33.0</td>\n",
       "      <td>0</td>\n",
       "      <td>0</td>\n",
       "      <td>1</td>\n",
       "      <td>35841.0</td>\n",
       "      <td>124.0</td>\n",
       "      <td>253</td>\n",
       "      <td>0</td>\n",
       "    </tr>\n",
       "    <tr>\n",
       "      <th>3</th>\n",
       "      <td>0</td>\n",
       "      <td>22</td>\n",
       "      <td>1</td>\n",
       "      <td>33.0</td>\n",
       "      <td>0</td>\n",
       "      <td>1</td>\n",
       "      <td>0</td>\n",
       "      <td>27645.0</td>\n",
       "      <td>152.0</td>\n",
       "      <td>69</td>\n",
       "      <td>0</td>\n",
       "    </tr>\n",
       "    <tr>\n",
       "      <th>4</th>\n",
       "      <td>1</td>\n",
       "      <td>28</td>\n",
       "      <td>1</td>\n",
       "      <td>46.0</td>\n",
       "      <td>1</td>\n",
       "      <td>1</td>\n",
       "      <td>0</td>\n",
       "      <td>29023.0</td>\n",
       "      <td>152.0</td>\n",
       "      <td>211</td>\n",
       "      <td>0</td>\n",
       "    </tr>\n",
       "  </tbody>\n",
       "</table>\n",
       "</div>"
      ],
      "text/plain": [
       "   Gender  Age  Driving_License  Region_Code  Previously_Insured  Vehicle_Age  \\\n",
       "0       1   22                1          7.0                   1            1   \n",
       "1       1   42                1         28.0                   0            0   \n",
       "2       0   66                1         33.0                   0            0   \n",
       "3       0   22                1         33.0                   0            1   \n",
       "4       1   28                1         46.0                   1            1   \n",
       "\n",
       "   Vehicle_Damage  Annual_Premium  Policy_Sales_Channel  Vintage  Response  \n",
       "0               0          2630.0                 152.0       16         0  \n",
       "1               1         43327.0                  26.0      135         0  \n",
       "2               1         35841.0                 124.0      253         0  \n",
       "3               0         27645.0                 152.0       69         0  \n",
       "4               0         29023.0                 152.0      211         0  "
      ]
     },
     "execution_count": 58,
     "metadata": {},
     "output_type": "execute_result"
    }
   ],
   "source": [
    "data.head()"
   ]
  },
  {
   "cell_type": "code",
   "execution_count": 124,
   "id": "c8a7b93b",
   "metadata": {},
   "outputs": [],
   "source": [
    "def ANN():\n",
    "    ann = tf.keras.models.Sequential()\n",
    "    ann.add(tf.keras.layers.Dense(units=100,activation=\"relu\"))\n",
    "    ann.add(tf.keras.layers.Dropout(0.3))\n",
    "    ann.add(tf.keras.layers.Dense(units=75,activation=\"relu\"))\n",
    "    ann.add(tf.keras.layers.Dropout(0.2))\n",
    "    ann.add(tf.keras.layers.Dense(units=50,activation=\"relu\"))\n",
    "    ann.add(tf.keras.layers.Dropout(0.3))\n",
    "    ann.add(tf.keras.layers.Dense(units=25,activation=\"relu\"))\n",
    "    ann.add(tf.keras.layers.Dropout(0.2))\n",
    "    ann.add(tf.keras.layers.Dense(units=1,activation=\"sigmoid\"))\n",
    "    ann.compile(optimizer=\"adam\",loss=\"binary_crossentropy\",metrics=['accuracy'])\n",
    "\n",
    "    return ann\n",
    "\n",
    "def measure_accuracy(actual_prediction,model_prediction):\n",
    "    skplt.metrics.plot_confusion_matrix(actual_prediction,model_prediction, title = 'Confusion Matrix')\n",
    "    print(classification_report(actual_prediction, model_prediction))"
   ]
  },
  {
   "cell_type": "code",
   "execution_count": 125,
   "id": "6aa86c9e",
   "metadata": {},
   "outputs": [],
   "source": [
    "nn=ANN()"
   ]
  },
  {
   "cell_type": "code",
   "execution_count": 622,
   "id": "ef9c0b17",
   "metadata": {},
   "outputs": [],
   "source": [
    "#combine all explainatory variables\n",
    "explainatory_variables=data.iloc[:,0:10]\n",
    "target_variable=data.iloc[:,10]\n",
    "\n",
    "#it's important to make sure that the proportion of different classes in the original dataset is maintained in both the training and testing sets.\n",
    "x_train,x_test,y_train,y_test = train_test_split(explainatory_variables,target_variable,test_size=0.2,random_state=0,stratify=target_variable)"
   ]
  },
  {
   "cell_type": "code",
   "execution_count": 623,
   "id": "1c4d0ae9",
   "metadata": {},
   "outputs": [
    {
     "data": {
      "text/plain": [
       "0    255642\n",
       "1     50081\n",
       "Name: Response, dtype: int64"
      ]
     },
     "execution_count": 623,
     "metadata": {},
     "output_type": "execute_result"
    }
   ],
   "source": [
    "y_train.value_counts()"
   ]
  },
  {
   "cell_type": "code",
   "execution_count": 624,
   "id": "960b89d2",
   "metadata": {},
   "outputs": [
    {
     "data": {
      "text/plain": [
       "0    63911\n",
       "1    12520\n",
       "Name: Response, dtype: int64"
      ]
     },
     "execution_count": 624,
     "metadata": {},
     "output_type": "execute_result"
    }
   ],
   "source": [
    "y_test.value_counts()"
   ]
  },
  {
   "cell_type": "code",
   "execution_count": 625,
   "id": "9bd6710e",
   "metadata": {},
   "outputs": [],
   "source": [
    "#perform MinMax scaling to normalize our explanatory variables.\n",
    "from sklearn.preprocessing import MinMaxScaler\n",
    "scaler  = MinMaxScaler()\n",
    "x_train = scaler.fit_transform(x_train)\n",
    "x_test    = scaler.fit_transform(x_test)\n"
   ]
  },
  {
   "cell_type": "code",
   "execution_count": 626,
   "id": "3d132aca",
   "metadata": {},
   "outputs": [
    {
     "name": "stdout",
     "output_type": "stream",
     "text": [
      "Train on 305723 samples\n",
      "Epoch 1/5\n",
      "305723/305723 [==============================] - 40s 132us/sample - loss: 0.2939 - acc: 0.8363\n",
      "Epoch 2/5\n",
      "305723/305723 [==============================] - 42s 138us/sample - loss: 0.2873 - acc: 0.8369\n",
      "Epoch 3/5\n",
      "305723/305723 [==============================] - 39s 128us/sample - loss: 0.2868 - acc: 0.8363\n",
      "Epoch 4/5\n",
      "305723/305723 [==============================] - 37s 122us/sample - loss: 0.2864 - acc: 0.8372\n",
      "Epoch 5/5\n",
      "305723/305723 [==============================] - 38s 123us/sample - loss: 0.2859 - acc: 0.8366\n"
     ]
    },
    {
     "data": {
      "text/plain": [
       "<tensorflow.python.keras.callbacks.History at 0x7fc9621019e8>"
      ]
     },
     "execution_count": 626,
     "metadata": {},
     "output_type": "execute_result"
    }
   ],
   "source": [
    "#train our model\n",
    "nn.fit((np.array(x_train)),(np.array(y_train)),batch_size=32,epochs = 5)"
   ]
  },
  {
   "cell_type": "code",
   "execution_count": 634,
   "id": "a3a7649d",
   "metadata": {},
   "outputs": [],
   "source": [
    "pred=nn.predict(x_test)\n",
    "final_pred=np.round(pred)    "
   ]
  },
  {
   "cell_type": "code",
   "execution_count": 635,
   "id": "08d18c7c",
   "metadata": {},
   "outputs": [
    {
     "name": "stderr",
     "output_type": "stream",
     "text": [
      "/home/admin-pc/anaconda3/lib/python3.7/site-packages/sklearn/metrics/_classification.py:1318: UndefinedMetricWarning: Precision and F-score are ill-defined and being set to 0.0 in labels with no predicted samples. Use `zero_division` parameter to control this behavior.\n",
      "  _warn_prf(average, modifier, msg_start, len(result))\n",
      "/home/admin-pc/anaconda3/lib/python3.7/site-packages/sklearn/metrics/_classification.py:1318: UndefinedMetricWarning: Precision and F-score are ill-defined and being set to 0.0 in labels with no predicted samples. Use `zero_division` parameter to control this behavior.\n",
      "  _warn_prf(average, modifier, msg_start, len(result))\n",
      "/home/admin-pc/anaconda3/lib/python3.7/site-packages/sklearn/metrics/_classification.py:1318: UndefinedMetricWarning: Precision and F-score are ill-defined and being set to 0.0 in labels with no predicted samples. Use `zero_division` parameter to control this behavior.\n",
      "  _warn_prf(average, modifier, msg_start, len(result))\n"
     ]
    },
    {
     "name": "stdout",
     "output_type": "stream",
     "text": [
      "              precision    recall  f1-score   support\n",
      "\n",
      "           0       0.84      1.00      0.91     63911\n",
      "           1       0.00      0.00      0.00     12520\n",
      "\n",
      "    accuracy                           0.84     76431\n",
      "   macro avg       0.42      0.50      0.46     76431\n",
      "weighted avg       0.70      0.84      0.76     76431\n",
      "\n"
     ]
    },
    {
     "data": {
      "image/png": "[encoded data removed]",
      "text/plain": [
       "<Figure size 432x288 with 2 Axes>"
      ]
     },
     "metadata": {
      "needs_background": "light"
     },
     "output_type": "display_data"
    }
   ],
   "source": [
    "measure_accuracy(y_test, final_pred)"
   ]
  },
  {
   "cell_type": "markdown",
   "id": "355647db",
   "metadata": {},
   "source": [
    "# Handling  Data Imbalance Using Random Undersampling"
   ]
  },
  {
   "cell_type": "markdown",
   "id": "399dab14",
   "metadata": {},
   "source": [
    "# Important Note \n",
    "### To balance the dataset, we should only apply balancing techniques to the training data and not the testing data. Balancing the testing data can give us inaccurate results. By balancing the training data, we ensure that the model learns from a fair and representative dataset. The testing data should remain unchanged to evaluate the model's performance accurately."
   ]
  },
  {
   "cell_type": "code",
   "execution_count": 636,
   "id": "bc04cac0",
   "metadata": {},
   "outputs": [],
   "source": [
    "#combine all explainatory variables\n",
    "explainatory_variables=data.iloc[:,0:10]\n",
    "target_variable=data.iloc[:,10]\n",
    "\n",
    "#it's important to make sure that the proportion of different classes in the original dataset is maintained in both the training and testing sets.\n",
    "x_train,x_test,y_train,y_test = train_test_split(explainatory_variables,target_variable,test_size=0.2,random_state=0,stratify=target_variable)"
   ]
  },
  {
   "cell_type": "code",
   "execution_count": 637,
   "id": "3ac8bda1",
   "metadata": {},
   "outputs": [],
   "source": [
    "from sklearn.utils import resample\n",
    "\n",
    "# Separate majority and minority classes in the training data \n",
    "train_data=pd.concat([x_train, y_train],axis=1)\n",
    "df_majority = train_data[train_data.iloc[:,10]==0]\n",
    "df_minority = train_data[train_data.iloc[:,10]==1]\n",
    "\n",
    "#upsample majority class\n",
    "df_majority_downsampled = resample(df_majority,n_samples=len(df_minority))"
   ]
  },
  {
   "cell_type": "code",
   "execution_count": 638,
   "id": "7583121c",
   "metadata": {},
   "outputs": [],
   "source": [
    "x_train_downsample=pd.concat([df_majority_downsampled, df_minority])"
   ]
  },
  {
   "cell_type": "code",
   "execution_count": 639,
   "id": "9eedac34",
   "metadata": {},
   "outputs": [
    {
     "data": {
      "text/plain": [
       "1    50081\n",
       "0    50081\n",
       "Name: Response, dtype: int64"
      ]
     },
     "execution_count": 639,
     "metadata": {},
     "output_type": "execute_result"
    }
   ],
   "source": [
    "x_train_downsample['Response'].value_counts()"
   ]
  },
  {
   "cell_type": "code",
   "execution_count": 640,
   "id": "c0bc6cd3",
   "metadata": {},
   "outputs": [],
   "source": [
    "x_train=x_train_downsample.iloc[:,:10]\n",
    "y_train=x_train_downsample.iloc[:,10]"
   ]
  },
  {
   "cell_type": "code",
   "execution_count": 641,
   "id": "2a99b9d1",
   "metadata": {},
   "outputs": [],
   "source": [
    "from sklearn.preprocessing import MinMaxScaler\n",
    "scaler  = MinMaxScaler()\n",
    "x_train = scaler.fit_transform(x_train)\n",
    "x_test    = scaler.fit_transform(x_test)"
   ]
  },
  {
   "cell_type": "code",
   "execution_count": 642,
   "id": "d58942bb",
   "metadata": {},
   "outputs": [
    {
     "name": "stdout",
     "output_type": "stream",
     "text": [
      "Train on 100162 samples\n",
      "Epoch 1/5\n",
      "100162/100162 [==============================] - 15s 153us/sample - loss: 0.3863 - acc: 0.8288\n",
      "Epoch 2/5\n",
      "100162/100162 [==============================] - 14s 136us/sample - loss: 0.3812 - acc: 0.8303\n",
      "Epoch 3/5\n",
      "100162/100162 [==============================] - 13s 131us/sample - loss: 0.3796 - acc: 0.8316\n",
      "Epoch 4/5\n",
      "100162/100162 [==============================] - 13s 125us/sample - loss: 0.3787 - acc: 0.8304\n",
      "Epoch 5/5\n",
      "100162/100162 [==============================] - 13s 127us/sample - loss: 0.3783 - acc: 0.8305\n"
     ]
    },
    {
     "data": {
      "text/plain": [
       "<tensorflow.python.keras.callbacks.History at 0x7fc96127f240>"
      ]
     },
     "execution_count": 642,
     "metadata": {},
     "output_type": "execute_result"
    }
   ],
   "source": [
    "nn.fit((np.array(x_train)),(np.array(y_train)),batch_size=32,epochs = 5)"
   ]
  },
  {
   "cell_type": "code",
   "execution_count": 643,
   "id": "557f52b4",
   "metadata": {},
   "outputs": [],
   "source": [
    "pred=nn.predict(x_test)\n",
    "final_pred=np.round(pred)"
   ]
  },
  {
   "cell_type": "code",
   "execution_count": 644,
   "id": "2db21284",
   "metadata": {},
   "outputs": [
    {
     "name": "stdout",
     "output_type": "stream",
     "text": [
      "              precision    recall  f1-score   support\n",
      "\n",
      "           0       0.98      0.74      0.85     63911\n",
      "           1       0.41      0.92      0.57     12520\n",
      "\n",
      "    accuracy                           0.77     76431\n",
      "   macro avg       0.70      0.83      0.71     76431\n",
      "weighted avg       0.89      0.77      0.80     76431\n",
      "\n"
     ]
    },
    {
     "data": {
      "image/png": "[encoded data removed]",
      "text/plain": [
       "<Figure size 432x288 with 2 Axes>"
      ]
     },
     "metadata": {
      "needs_background": "light"
     },
     "output_type": "display_data"
    }
   ],
   "source": [
    "measure_accuracy(Y_test,final_pred)"
   ]
  },
  {
   "cell_type": "markdown",
   "id": "04b8d0d9",
   "metadata": {},
   "source": [
    "# Handling Imbalance Data Using Random oversampling"
   ]
  },
  {
   "cell_type": "code",
   "execution_count": 12,
   "id": "4fa0fc07",
   "metadata": {},
   "outputs": [],
   "source": [
    "#combine all explainatory variables\n",
    "explainatory_variables=data.iloc[:,0:10]\n",
    "target_variable=data.iloc[:,10]\n",
    "\n",
    "#it's important to make sure that the proportion of different classes in the original dataset is maintained in both the training and testing sets.\n",
    "x_train,x_test,y_train,y_test = train_test_split(explainatory_variables,target_variable,test_size=0.2,random_state=0,stratify=target_variable)"
   ]
  },
  {
   "cell_type": "code",
   "execution_count": 646,
   "id": "05371b0b",
   "metadata": {},
   "outputs": [],
   "source": [
    "from sklearn.utils import resample\n",
    "\n",
    "# Separate majority and minority classes in the training data \n",
    "train_data=pd.concat([x_train, y_train],axis=1)\n",
    "df_majority = train_data[train_data.iloc[:,10]==0]\n",
    "df_minority = train_data[train_data.iloc[:,10]==1]\n",
    "\n",
    "#upsample majority class\n",
    "df_minority_upsampled = resample(df_minority,n_samples=len(df_majority))"
   ]
  },
  {
   "cell_type": "code",
   "execution_count": 647,
   "id": "b904fbda",
   "metadata": {},
   "outputs": [],
   "source": [
    "#Combine the upsampled minority class data with the majority class data.\n",
    "x_train_upsample=pd.concat([df_minority_upsampled, df_majority])"
   ]
  },
  {
   "cell_type": "code",
   "execution_count": 648,
   "id": "88651495",
   "metadata": {},
   "outputs": [
    {
     "data": {
      "text/plain": [
       "1    255642\n",
       "0    255642\n",
       "Name: Response, dtype: int64"
      ]
     },
     "execution_count": 648,
     "metadata": {},
     "output_type": "execute_result"
    }
   ],
   "source": [
    "x_train_upsample['Response'].value_counts()"
   ]
  },
  {
   "cell_type": "code",
   "execution_count": 649,
   "id": "2ab06ffd",
   "metadata": {},
   "outputs": [],
   "source": [
    "x_train=x_train_upsample.iloc[:,:10]\n",
    "y_train=x_train_upsample.iloc[:,10]"
   ]
  },
  {
   "cell_type": "code",
   "execution_count": 650,
   "id": "e02ca056",
   "metadata": {},
   "outputs": [],
   "source": [
    "from sklearn.preprocessing import MinMaxScaler\n",
    "scaler  = MinMaxScaler()\n",
    "x_train = scaler.fit_transform(x_train)\n",
    "x_test    = scaler.fit_transform(x_test)\n"
   ]
  },
  {
   "cell_type": "code",
   "execution_count": 651,
   "id": "4426a512",
   "metadata": {},
   "outputs": [
    {
     "name": "stdout",
     "output_type": "stream",
     "text": [
      "Train on 511284 samples\n",
      "Epoch 1/5\n",
      "511284/511284 [==============================] - 64s 126us/sample - loss: 0.3772 - acc: 0.8304\n",
      "Epoch 2/5\n",
      "511284/511284 [==============================] - 63s 122us/sample - loss: 0.3769 - acc: 0.8303\n",
      "Epoch 3/5\n",
      "511284/511284 [==============================] - 62s 121us/sample - loss: 0.3762 - acc: 0.8305\n",
      "Epoch 4/5\n",
      "511284/511284 [==============================] - 62s 121us/sample - loss: 0.3755 - acc: 0.8306\n",
      "Epoch 5/5\n",
      "511284/511284 [==============================] - 62s 122us/sample - loss: 0.3754 - acc: 0.8309\n"
     ]
    },
    {
     "data": {
      "text/plain": [
       "<tensorflow.python.keras.callbacks.History at 0x7fc96185c940>"
      ]
     },
     "execution_count": 651,
     "metadata": {},
     "output_type": "execute_result"
    }
   ],
   "source": [
    "nn.fit((np.array(x_train)),(np.array(y_train)),batch_size=32,epochs = 5)"
   ]
  },
  {
   "cell_type": "code",
   "execution_count": 652,
   "id": "83cefcd6",
   "metadata": {},
   "outputs": [],
   "source": [
    "pred=nn.predict(x_test)\n",
    "final_pred=np.round(pred)\n"
   ]
  },
  {
   "cell_type": "code",
   "execution_count": 653,
   "id": "b913ef88",
   "metadata": {},
   "outputs": [
    {
     "name": "stdout",
     "output_type": "stream",
     "text": [
      "              precision    recall  f1-score   support\n",
      "\n",
      "           0       0.98      0.74      0.85     63911\n",
      "           1       0.41      0.93      0.57     12520\n",
      "\n",
      "    accuracy                           0.77     76431\n",
      "   macro avg       0.70      0.83      0.71     76431\n",
      "weighted avg       0.89      0.77      0.80     76431\n",
      "\n"
     ]
    },
    {
     "data": {
      "image/png": "[encoded data removed]",
      "text/plain": [
       "<Figure size 432x288 with 2 Axes>"
      ]
     },
     "metadata": {
      "needs_background": "light"
     },
     "output_type": "display_data"
    }
   ],
   "source": [
    "measure_accuracy(y_test, final_pred)"
   ]
  },
  {
   "cell_type": "code",
   "execution_count": null,
   "id": "362d3f83",
   "metadata": {},
   "outputs": [],
   "source": []
  },
  {
   "cell_type": "code",
   "execution_count": null,
   "id": "60cedd3a",
   "metadata": {},
   "outputs": [],
   "source": []
  },
  {
   "cell_type": "code",
   "execution_count": 64,
   "id": "f2a7da3b",
   "metadata": {},
   "outputs": [],
   "source": [
    "## perform balancing on only training part "
   ]
  },
  {
   "cell_type": "code",
   "execution_count": null,
   "id": "ad7304c1",
   "metadata": {},
   "outputs": [],
   "source": [
    "## We need to perform a trial and error process to determine whether this approach is suitable \n",
    "# smote\n",
    "# adasyn"
   ]
  },
  {
   "cell_type": "code",
   "execution_count": null,
   "id": "aee1e46f",
   "metadata": {},
   "outputs": [],
   "source": [
    "# what is data imbalance\n",
    "# what are the consequences of data imbalance \n",
    "# how to handle data imbalance using techniques such as random undersampling and random oversampling"
   ]
  },
  {
   "cell_type": "code",
   "execution_count": null,
   "id": "de16b2e0",
   "metadata": {},
   "outputs": [],
   "source": []
  },
  {
   "cell_type": "markdown",
   "id": "53c5c51d",
   "metadata": {},
   "source": [
    "# SMOTE ( Synthetice Minority Oversampling Technique)"
   ]
  },
  {
   "cell_type": "code",
   "execution_count": 98,
   "id": "1b178f3d",
   "metadata": {},
   "outputs": [
    {
     "data": {
      "text/html": [
       "<div>\n",
       "<style scoped>\n",
       "    .dataframe tbody tr th:only-of-type {\n",
       "        vertical-align: middle;\n",
       "    }\n",
       "\n",
       "    .dataframe tbody tr th {\n",
       "        vertical-align: top;\n",
       "    }\n",
       "\n",
       "    .dataframe thead th {\n",
       "        text-align: right;\n",
       "    }\n",
       "</style>\n",
       "<table border=\"1\" class=\"dataframe\">\n",
       "  <thead>\n",
       "    <tr style=\"text-align: right;\">\n",
       "      <th></th>\n",
       "      <th>Gender</th>\n",
       "      <th>Age</th>\n",
       "      <th>Driving_License</th>\n",
       "      <th>Region_Code</th>\n",
       "      <th>Previously_Insured</th>\n",
       "      <th>Vehicle_Age</th>\n",
       "      <th>Vehicle_Damage</th>\n",
       "      <th>Annual_Premium</th>\n",
       "      <th>Policy_Sales_Channel</th>\n",
       "      <th>Vintage</th>\n",
       "      <th>Response</th>\n",
       "    </tr>\n",
       "  </thead>\n",
       "  <tbody>\n",
       "    <tr>\n",
       "      <th>0</th>\n",
       "      <td>1</td>\n",
       "      <td>22</td>\n",
       "      <td>1</td>\n",
       "      <td>7.0</td>\n",
       "      <td>1</td>\n",
       "      <td>1</td>\n",
       "      <td>0</td>\n",
       "      <td>2630.0</td>\n",
       "      <td>152.0</td>\n",
       "      <td>16</td>\n",
       "      <td>0</td>\n",
       "    </tr>\n",
       "    <tr>\n",
       "      <th>1</th>\n",
       "      <td>1</td>\n",
       "      <td>42</td>\n",
       "      <td>1</td>\n",
       "      <td>28.0</td>\n",
       "      <td>0</td>\n",
       "      <td>0</td>\n",
       "      <td>1</td>\n",
       "      <td>43327.0</td>\n",
       "      <td>26.0</td>\n",
       "      <td>135</td>\n",
       "      <td>0</td>\n",
       "    </tr>\n",
       "    <tr>\n",
       "      <th>2</th>\n",
       "      <td>0</td>\n",
       "      <td>66</td>\n",
       "      <td>1</td>\n",
       "      <td>33.0</td>\n",
       "      <td>0</td>\n",
       "      <td>0</td>\n",
       "      <td>1</td>\n",
       "      <td>35841.0</td>\n",
       "      <td>124.0</td>\n",
       "      <td>253</td>\n",
       "      <td>0</td>\n",
       "    </tr>\n",
       "    <tr>\n",
       "      <th>3</th>\n",
       "      <td>0</td>\n",
       "      <td>22</td>\n",
       "      <td>1</td>\n",
       "      <td>33.0</td>\n",
       "      <td>0</td>\n",
       "      <td>1</td>\n",
       "      <td>0</td>\n",
       "      <td>27645.0</td>\n",
       "      <td>152.0</td>\n",
       "      <td>69</td>\n",
       "      <td>0</td>\n",
       "    </tr>\n",
       "    <tr>\n",
       "      <th>4</th>\n",
       "      <td>1</td>\n",
       "      <td>28</td>\n",
       "      <td>1</td>\n",
       "      <td>46.0</td>\n",
       "      <td>1</td>\n",
       "      <td>1</td>\n",
       "      <td>0</td>\n",
       "      <td>29023.0</td>\n",
       "      <td>152.0</td>\n",
       "      <td>211</td>\n",
       "      <td>0</td>\n",
       "    </tr>\n",
       "  </tbody>\n",
       "</table>\n",
       "</div>"
      ],
      "text/plain": [
       "   Gender  Age  Driving_License  Region_Code  Previously_Insured  Vehicle_Age  \\\n",
       "0       1   22                1          7.0                   1            1   \n",
       "1       1   42                1         28.0                   0            0   \n",
       "2       0   66                1         33.0                   0            0   \n",
       "3       0   22                1         33.0                   0            1   \n",
       "4       1   28                1         46.0                   1            1   \n",
       "\n",
       "   Vehicle_Damage  Annual_Premium  Policy_Sales_Channel  Vintage  Response  \n",
       "0               0          2630.0                 152.0       16         0  \n",
       "1               1         43327.0                  26.0      135         0  \n",
       "2               1         35841.0                 124.0      253         0  \n",
       "3               0         27645.0                 152.0       69         0  \n",
       "4               0         29023.0                 152.0      211         0  "
      ]
     },
     "execution_count": 98,
     "metadata": {},
     "output_type": "execute_result"
    }
   ],
   "source": [
    "data.head()"
   ]
  },
  {
   "cell_type": "code",
   "execution_count": 99,
   "id": "10ed0dce",
   "metadata": {},
   "outputs": [],
   "source": [
    "#combine all explainatory variables\n",
    "explainatory_variables=data.iloc[:,0:10]\n",
    "target_variable=data.iloc[:,10]\n",
    "\n",
    "#it's important to make sure that the proportion of different classes in the original dataset is maintained in both the training and testing sets.\n",
    "x_train,x_test,y_train,y_test = train_test_split(explainatory_variables,target_variable,test_size=0.2,random_state=0,stratify=target_variable)"
   ]
  },
  {
   "cell_type": "code",
   "execution_count": null,
   "id": "e77d0e1e",
   "metadata": {},
   "outputs": [],
   "source": []
  },
  {
   "cell_type": "code",
   "execution_count": 100,
   "id": "dc989d7a",
   "metadata": {},
   "outputs": [],
   "source": [
    "from imblearn.over_sampling import SMOTE\n",
    "sm = SMOTE(sampling_strategy='minority',k_neighbors=10)\n",
    "x_train,y_train= sm.fit_resample(x_train,y_train)\n"
   ]
  },
  {
   "cell_type": "code",
   "execution_count": 101,
   "id": "5a6d9953",
   "metadata": {},
   "outputs": [
    {
     "data": {
      "text/plain": [
       "1    255642\n",
       "0    255642\n",
       "Name: Response, dtype: int64"
      ]
     },
     "execution_count": 101,
     "metadata": {},
     "output_type": "execute_result"
    }
   ],
   "source": [
    "y_train.value_counts()"
   ]
  },
  {
   "cell_type": "code",
   "execution_count": 102,
   "id": "940e2c83",
   "metadata": {},
   "outputs": [],
   "source": [
    "from sklearn.preprocessing import MinMaxScaler\n",
    "scaler  = MinMaxScaler()\n",
    "x_train = scaler.fit_transform(x_train)\n",
    "x_test    = scaler.fit_transform(x_test)\n"
   ]
  },
  {
   "cell_type": "code",
   "execution_count": 103,
   "id": "b36712f6",
   "metadata": {},
   "outputs": [
    {
     "name": "stdout",
     "output_type": "stream",
     "text": [
      "Train on 511284 samples\n",
      "Epoch 1/5\n",
      "511284/511284 [==============================] - 52s 101us/sample - loss: 0.3470 - acc: 0.8473\n",
      "Epoch 2/5\n",
      "511284/511284 [==============================] - 47s 92us/sample - loss: 0.3362 - acc: 0.8528\n",
      "Epoch 3/5\n",
      "511284/511284 [==============================] - 48s 94us/sample - loss: 0.3344 - acc: 0.8531\n",
      "Epoch 4/5\n",
      "511284/511284 [==============================] - 48s 93us/sample - loss: 0.3336 - acc: 0.8540\n",
      "Epoch 5/5\n",
      "511284/511284 [==============================] - 49s 96us/sample - loss: 0.3330 - acc: 0.8541\n"
     ]
    },
    {
     "data": {
      "text/plain": [
       "<tensorflow.python.keras.callbacks.History at 0x7fe6decdc5c0>"
      ]
     },
     "execution_count": 103,
     "metadata": {},
     "output_type": "execute_result"
    }
   ],
   "source": [
    "nn.fit((np.array(x_train)),(np.array(y_train)),batch_size=32,epochs = 5)"
   ]
  },
  {
   "cell_type": "code",
   "execution_count": 104,
   "id": "8598a668",
   "metadata": {},
   "outputs": [],
   "source": [
    "pred=nn.predict(x_test)\n",
    "final_pred=np.round(pred)"
   ]
  },
  {
   "cell_type": "code",
   "execution_count": 105,
   "id": "d7cb2098",
   "metadata": {},
   "outputs": [
    {
     "name": "stdout",
     "output_type": "stream",
     "text": [
      "              precision    recall  f1-score   support\n",
      "\n",
      "           0       0.96      0.80      0.87     63911\n",
      "           1       0.44      0.82      0.58     12520\n",
      "\n",
      "    accuracy                           0.80     76431\n",
      "   macro avg       0.70      0.81      0.72     76431\n",
      "weighted avg       0.87      0.80      0.82     76431\n",
      "\n"
     ]
    },
    {
     "data": {
      "image/png": "[encoded data removed]",
      "text/plain": [
       "<Figure size 432x288 with 2 Axes>"
      ]
     },
     "metadata": {
      "needs_background": "light"
     },
     "output_type": "display_data"
    }
   ],
   "source": [
    "measure_accuracy(y_test, final_pred)"
   ]
  },
  {
   "cell_type": "markdown",
   "id": "96c4f0ad",
   "metadata": {},
   "source": [
    "# Borderline SMOTE"
   ]
  },
  {
   "cell_type": "code",
   "execution_count": 106,
   "id": "a658f65e",
   "metadata": {},
   "outputs": [
    {
     "data": {
      "text/html": [
       "<div>\n",
       "<style scoped>\n",
       "    .dataframe tbody tr th:only-of-type {\n",
       "        vertical-align: middle;\n",
       "    }\n",
       "\n",
       "    .dataframe tbody tr th {\n",
       "        vertical-align: top;\n",
       "    }\n",
       "\n",
       "    .dataframe thead th {\n",
       "        text-align: right;\n",
       "    }\n",
       "</style>\n",
       "<table border=\"1\" class=\"dataframe\">\n",
       "  <thead>\n",
       "    <tr style=\"text-align: right;\">\n",
       "      <th></th>\n",
       "      <th>Gender</th>\n",
       "      <th>Age</th>\n",
       "      <th>Driving_License</th>\n",
       "      <th>Region_Code</th>\n",
       "      <th>Previously_Insured</th>\n",
       "      <th>Vehicle_Age</th>\n",
       "      <th>Vehicle_Damage</th>\n",
       "      <th>Annual_Premium</th>\n",
       "      <th>Policy_Sales_Channel</th>\n",
       "      <th>Vintage</th>\n",
       "      <th>Response</th>\n",
       "    </tr>\n",
       "  </thead>\n",
       "  <tbody>\n",
       "    <tr>\n",
       "      <th>0</th>\n",
       "      <td>1</td>\n",
       "      <td>22</td>\n",
       "      <td>1</td>\n",
       "      <td>7.0</td>\n",
       "      <td>1</td>\n",
       "      <td>1</td>\n",
       "      <td>0</td>\n",
       "      <td>2630.0</td>\n",
       "      <td>152.0</td>\n",
       "      <td>16</td>\n",
       "      <td>0</td>\n",
       "    </tr>\n",
       "    <tr>\n",
       "      <th>1</th>\n",
       "      <td>1</td>\n",
       "      <td>42</td>\n",
       "      <td>1</td>\n",
       "      <td>28.0</td>\n",
       "      <td>0</td>\n",
       "      <td>0</td>\n",
       "      <td>1</td>\n",
       "      <td>43327.0</td>\n",
       "      <td>26.0</td>\n",
       "      <td>135</td>\n",
       "      <td>0</td>\n",
       "    </tr>\n",
       "    <tr>\n",
       "      <th>2</th>\n",
       "      <td>0</td>\n",
       "      <td>66</td>\n",
       "      <td>1</td>\n",
       "      <td>33.0</td>\n",
       "      <td>0</td>\n",
       "      <td>0</td>\n",
       "      <td>1</td>\n",
       "      <td>35841.0</td>\n",
       "      <td>124.0</td>\n",
       "      <td>253</td>\n",
       "      <td>0</td>\n",
       "    </tr>\n",
       "    <tr>\n",
       "      <th>3</th>\n",
       "      <td>0</td>\n",
       "      <td>22</td>\n",
       "      <td>1</td>\n",
       "      <td>33.0</td>\n",
       "      <td>0</td>\n",
       "      <td>1</td>\n",
       "      <td>0</td>\n",
       "      <td>27645.0</td>\n",
       "      <td>152.0</td>\n",
       "      <td>69</td>\n",
       "      <td>0</td>\n",
       "    </tr>\n",
       "    <tr>\n",
       "      <th>4</th>\n",
       "      <td>1</td>\n",
       "      <td>28</td>\n",
       "      <td>1</td>\n",
       "      <td>46.0</td>\n",
       "      <td>1</td>\n",
       "      <td>1</td>\n",
       "      <td>0</td>\n",
       "      <td>29023.0</td>\n",
       "      <td>152.0</td>\n",
       "      <td>211</td>\n",
       "      <td>0</td>\n",
       "    </tr>\n",
       "  </tbody>\n",
       "</table>\n",
       "</div>"
      ],
      "text/plain": [
       "   Gender  Age  Driving_License  Region_Code  Previously_Insured  Vehicle_Age  \\\n",
       "0       1   22                1          7.0                   1            1   \n",
       "1       1   42                1         28.0                   0            0   \n",
       "2       0   66                1         33.0                   0            0   \n",
       "3       0   22                1         33.0                   0            1   \n",
       "4       1   28                1         46.0                   1            1   \n",
       "\n",
       "   Vehicle_Damage  Annual_Premium  Policy_Sales_Channel  Vintage  Response  \n",
       "0               0          2630.0                 152.0       16         0  \n",
       "1               1         43327.0                  26.0      135         0  \n",
       "2               1         35841.0                 124.0      253         0  \n",
       "3               0         27645.0                 152.0       69         0  \n",
       "4               0         29023.0                 152.0      211         0  "
      ]
     },
     "execution_count": 106,
     "metadata": {},
     "output_type": "execute_result"
    }
   ],
   "source": [
    "data.head()"
   ]
  },
  {
   "cell_type": "code",
   "execution_count": 107,
   "id": "74e653db",
   "metadata": {},
   "outputs": [],
   "source": [
    "#combine all explainatory variables\n",
    "explainatory_variables=data.iloc[:,0:10]\n",
    "target_variable=data.iloc[:,10]\n",
    "\n",
    "#it's important to make sure that the proportion of different classes in the original dataset is maintained in both the training and testing sets.\n",
    "x_train,x_test,y_train,y_test = train_test_split(explainatory_variables,target_variable,test_size=0.2,random_state=0,stratify=target_variable)"
   ]
  },
  {
   "cell_type": "code",
   "execution_count": 108,
   "id": "2325afc9",
   "metadata": {},
   "outputs": [],
   "source": [
    "from imblearn.over_sampling import BorderlineSMOTE\n",
    "borderine_SMOTE=BorderlineSMOTE()\n",
    "x_train,y_train= borderine_SMOTE.fit_resample(x_train,y_train)"
   ]
  },
  {
   "cell_type": "code",
   "execution_count": 109,
   "id": "d0f6e114",
   "metadata": {},
   "outputs": [
    {
     "data": {
      "text/plain": [
       "1    255642\n",
       "0    255642\n",
       "Name: Response, dtype: int64"
      ]
     },
     "execution_count": 109,
     "metadata": {},
     "output_type": "execute_result"
    }
   ],
   "source": [
    "y_train.value_counts()"
   ]
  },
  {
   "cell_type": "code",
   "execution_count": 110,
   "id": "17cac94e",
   "metadata": {},
   "outputs": [],
   "source": [
    "from sklearn.preprocessing import MinMaxScaler\n",
    "scaler  = MinMaxScaler()\n",
    "x_train = scaler.fit_transform(x_train)\n",
    "x_test    = scaler.fit_transform(x_test)"
   ]
  },
  {
   "cell_type": "code",
   "execution_count": 111,
   "id": "894c42d5",
   "metadata": {},
   "outputs": [
    {
     "name": "stdout",
     "output_type": "stream",
     "text": [
      "Train on 511284 samples\n",
      "Epoch 1/5\n",
      "511284/511284 [==============================] - 50s 97us/sample - loss: 0.3282 - acc: 0.8580\n",
      "Epoch 2/5\n",
      "511284/511284 [==============================] - 48s 93us/sample - loss: 0.3281 - acc: 0.8580\n",
      "Epoch 3/5\n",
      "511284/511284 [==============================] - 46s 90us/sample - loss: 0.3275 - acc: 0.8584\n",
      "Epoch 4/5\n",
      "511284/511284 [==============================] - 47s 93us/sample - loss: 0.3272 - acc: 0.8584\n",
      "Epoch 5/5\n",
      "511284/511284 [==============================] - 47s 93us/sample - loss: 0.3266 - acc: 0.8587\n"
     ]
    },
    {
     "data": {
      "text/plain": [
       "<tensorflow.python.keras.callbacks.History at 0x7fe6dda36cf8>"
      ]
     },
     "execution_count": 111,
     "metadata": {},
     "output_type": "execute_result"
    }
   ],
   "source": [
    "nn.fit((np.array(x_train)),(np.array(y_train)),batch_size=32,epochs = 5)"
   ]
  },
  {
   "cell_type": "code",
   "execution_count": 112,
   "id": "da7dad45",
   "metadata": {},
   "outputs": [],
   "source": [
    "pred=nn.predict(x_test)\n",
    "final_pred=np.round(pred)"
   ]
  },
  {
   "cell_type": "code",
   "execution_count": 113,
   "id": "e956101e",
   "metadata": {},
   "outputs": [
    {
     "name": "stdout",
     "output_type": "stream",
     "text": [
      "              precision    recall  f1-score   support\n",
      "\n",
      "           0       0.97      0.78      0.86     63911\n",
      "           1       0.44      0.87      0.58     12520\n",
      "\n",
      "    accuracy                           0.79     76431\n",
      "   macro avg       0.70      0.83      0.72     76431\n",
      "weighted avg       0.88      0.79      0.82     76431\n",
      "\n"
     ]
    },
    {
     "data": {
      "image/png": "[encoded data removed]",
      "text/plain": [
       "<Figure size 432x288 with 2 Axes>"
      ]
     },
     "metadata": {
      "needs_background": "light"
     },
     "output_type": "display_data"
    }
   ],
   "source": [
    "measure_accuracy(y_test, final_pred)"
   ]
  },
  {
   "cell_type": "markdown",
   "id": "e8fd0625",
   "metadata": {},
   "source": [
    "# ADASYN (adaptive synthetic sampling) "
   ]
  },
  {
   "cell_type": "code",
   "execution_count": 115,
   "id": "7c3df216",
   "metadata": {},
   "outputs": [],
   "source": [
    "# 1.handling data imbalance using random undersampling ad random oversampling\n",
    "# 2.handling data imbalance using SMOTE and Borderline SMOTE\n",
    "# covered this points of video on  \n",
    "# what is data imbalance\n",
    "# what are the consequences of data imbalance \n",
    "# step by step details of each and every technique that we use to handle data imbalance\n",
    "# how to handle data imbalance using techniques such as random undersampling and random oversampling"
   ]
  },
  {
   "cell_type": "code",
   "execution_count": 128,
   "id": "0e5b94e9",
   "metadata": {},
   "outputs": [
    {
     "data": {
      "text/html": [
       "<div>\n",
       "<style scoped>\n",
       "    .dataframe tbody tr th:only-of-type {\n",
       "        vertical-align: middle;\n",
       "    }\n",
       "\n",
       "    .dataframe tbody tr th {\n",
       "        vertical-align: top;\n",
       "    }\n",
       "\n",
       "    .dataframe thead th {\n",
       "        text-align: right;\n",
       "    }\n",
       "</style>\n",
       "<table border=\"1\" class=\"dataframe\">\n",
       "  <thead>\n",
       "    <tr style=\"text-align: right;\">\n",
       "      <th></th>\n",
       "      <th>Gender</th>\n",
       "      <th>Age</th>\n",
       "      <th>Driving_License</th>\n",
       "      <th>Region_Code</th>\n",
       "      <th>Previously_Insured</th>\n",
       "      <th>Vehicle_Age</th>\n",
       "      <th>Vehicle_Damage</th>\n",
       "      <th>Annual_Premium</th>\n",
       "      <th>Policy_Sales_Channel</th>\n",
       "      <th>Vintage</th>\n",
       "      <th>Response</th>\n",
       "    </tr>\n",
       "  </thead>\n",
       "  <tbody>\n",
       "    <tr>\n",
       "      <th>0</th>\n",
       "      <td>1</td>\n",
       "      <td>22</td>\n",
       "      <td>1</td>\n",
       "      <td>7.0</td>\n",
       "      <td>1</td>\n",
       "      <td>1</td>\n",
       "      <td>0</td>\n",
       "      <td>2630.0</td>\n",
       "      <td>152.0</td>\n",
       "      <td>16</td>\n",
       "      <td>0</td>\n",
       "    </tr>\n",
       "    <tr>\n",
       "      <th>1</th>\n",
       "      <td>1</td>\n",
       "      <td>42</td>\n",
       "      <td>1</td>\n",
       "      <td>28.0</td>\n",
       "      <td>0</td>\n",
       "      <td>0</td>\n",
       "      <td>1</td>\n",
       "      <td>43327.0</td>\n",
       "      <td>26.0</td>\n",
       "      <td>135</td>\n",
       "      <td>0</td>\n",
       "    </tr>\n",
       "    <tr>\n",
       "      <th>2</th>\n",
       "      <td>0</td>\n",
       "      <td>66</td>\n",
       "      <td>1</td>\n",
       "      <td>33.0</td>\n",
       "      <td>0</td>\n",
       "      <td>0</td>\n",
       "      <td>1</td>\n",
       "      <td>35841.0</td>\n",
       "      <td>124.0</td>\n",
       "      <td>253</td>\n",
       "      <td>0</td>\n",
       "    </tr>\n",
       "    <tr>\n",
       "      <th>3</th>\n",
       "      <td>0</td>\n",
       "      <td>22</td>\n",
       "      <td>1</td>\n",
       "      <td>33.0</td>\n",
       "      <td>0</td>\n",
       "      <td>1</td>\n",
       "      <td>0</td>\n",
       "      <td>27645.0</td>\n",
       "      <td>152.0</td>\n",
       "      <td>69</td>\n",
       "      <td>0</td>\n",
       "    </tr>\n",
       "    <tr>\n",
       "      <th>4</th>\n",
       "      <td>1</td>\n",
       "      <td>28</td>\n",
       "      <td>1</td>\n",
       "      <td>46.0</td>\n",
       "      <td>1</td>\n",
       "      <td>1</td>\n",
       "      <td>0</td>\n",
       "      <td>29023.0</td>\n",
       "      <td>152.0</td>\n",
       "      <td>211</td>\n",
       "      <td>0</td>\n",
       "    </tr>\n",
       "  </tbody>\n",
       "</table>\n",
       "</div>"
      ],
      "text/plain": [
       "   Gender  Age  Driving_License  Region_Code  Previously_Insured  Vehicle_Age  \\\n",
       "0       1   22                1          7.0                   1            1   \n",
       "1       1   42                1         28.0                   0            0   \n",
       "2       0   66                1         33.0                   0            0   \n",
       "3       0   22                1         33.0                   0            1   \n",
       "4       1   28                1         46.0                   1            1   \n",
       "\n",
       "   Vehicle_Damage  Annual_Premium  Policy_Sales_Channel  Vintage  Response  \n",
       "0               0          2630.0                 152.0       16         0  \n",
       "1               1         43327.0                  26.0      135         0  \n",
       "2               1         35841.0                 124.0      253         0  \n",
       "3               0         27645.0                 152.0       69         0  \n",
       "4               0         29023.0                 152.0      211         0  "
      ]
     },
     "execution_count": 128,
     "metadata": {},
     "output_type": "execute_result"
    }
   ],
   "source": [
    "data.head()"
   ]
  },
  {
   "cell_type": "code",
   "execution_count": 129,
   "id": "0741d5b2",
   "metadata": {},
   "outputs": [],
   "source": [
    "#combine all explainatory variables\n",
    "explainatory_variables=data.iloc[:,0:10]\n",
    "target_variable=data.iloc[:,10]\n",
    "\n",
    "#it's important to make sure that the proportion of different classes in the original dataset is maintained in both the training and testing sets.\n",
    "x_train,x_test,y_train,y_test = train_test_split(explainatory_variables,target_variable,test_size=0.2,random_state=0,stratify=target_variable)"
   ]
  },
  {
   "cell_type": "code",
   "execution_count": 130,
   "id": "88244f2a",
   "metadata": {},
   "outputs": [],
   "source": [
    "from imblearn.over_sampling import ADASYN\n",
    "adasyn = ADASYN(random_state=42)\n",
    "x_train,y_train= adasyn.fit_resample(x_train,y_train)"
   ]
  },
  {
   "cell_type": "code",
   "execution_count": 131,
   "id": "e38dbf76",
   "metadata": {},
   "outputs": [
    {
     "data": {
      "text/plain": [
       "1    261027\n",
       "0    255642\n",
       "Name: Response, dtype: int64"
      ]
     },
     "execution_count": 131,
     "metadata": {},
     "output_type": "execute_result"
    }
   ],
   "source": [
    "y_train.value_counts()"
   ]
  },
  {
   "cell_type": "code",
   "execution_count": 132,
   "id": "7fe51c9d",
   "metadata": {},
   "outputs": [],
   "source": [
    "from sklearn.preprocessing import MinMaxScaler\n",
    "scaler  = MinMaxScaler()\n",
    "x_train = scaler.fit_transform(x_train)\n",
    "x_test    = scaler.fit_transform(x_test)"
   ]
  },
  {
   "cell_type": "code",
   "execution_count": 133,
   "id": "34d6df5d",
   "metadata": {},
   "outputs": [
    {
     "name": "stdout",
     "output_type": "stream",
     "text": [
      "Train on 516669 samples\n",
      "Epoch 1/5\n",
      "516669/516669 [==============================] - 53s 103us/sample - loss: 0.3524 - acc: 0.8433\n",
      "Epoch 2/5\n",
      "516669/516669 [==============================] - 51s 98us/sample - loss: 0.3420 - acc: 0.8477\n",
      "Epoch 3/5\n",
      "516669/516669 [==============================] - 52s 101us/sample - loss: 0.3404 - acc: 0.8488\n",
      "Epoch 4/5\n",
      "516669/516669 [==============================] - 52s 101us/sample - loss: 0.3396 - acc: 0.8494\n",
      "Epoch 5/5\n",
      "516669/516669 [==============================] - 50s 97us/sample - loss: 0.3389 - acc: 0.8494\n"
     ]
    },
    {
     "data": {
      "text/plain": [
       "<tensorflow.python.keras.callbacks.History at 0x7f75406285c0>"
      ]
     },
     "execution_count": 133,
     "metadata": {},
     "output_type": "execute_result"
    }
   ],
   "source": [
    "nn.fit((np.array(x_train)),(np.array(y_train)),batch_size=32,epochs = 5)"
   ]
  },
  {
   "cell_type": "code",
   "execution_count": 134,
   "id": "85f595a1",
   "metadata": {},
   "outputs": [],
   "source": [
    "pred=nn.predict(x_test)\n",
    "final_pred=np.round(pred)"
   ]
  },
  {
   "cell_type": "code",
   "execution_count": 135,
   "id": "f03b1a37",
   "metadata": {},
   "outputs": [
    {
     "name": "stdout",
     "output_type": "stream",
     "text": [
      "              precision    recall  f1-score   support\n",
      "\n",
      "           0       0.97      0.78      0.86     63911\n",
      "           1       0.43      0.87      0.58     12520\n",
      "\n",
      "    accuracy                           0.79     76431\n",
      "   macro avg       0.70      0.82      0.72     76431\n",
      "weighted avg       0.88      0.79      0.82     76431\n",
      "\n"
     ]
    },
    {
     "data": {
      "image/png": "[encoded data removed]",
      "text/plain": [
       "<Figure size 432x288 with 2 Axes>"
      ]
     },
     "metadata": {
      "needs_background": "light"
     },
     "output_type": "display_data"
    }
   ],
   "source": [
    "measure_accuracy(y_test, final_pred)"
   ]
  },
  {
   "cell_type": "code",
   "execution_count": null,
   "id": "5b95acf9",
   "metadata": {},
   "outputs": [],
   "source": []
  },
  {
   "cell_type": "code",
   "execution_count": null,
   "id": "9feb4d3a",
   "metadata": {},
   "outputs": [],
   "source": []
  },
  {
   "cell_type": "code",
   "execution_count": null,
   "id": "29663d1b",
   "metadata": {},
   "outputs": [],
   "source": []
  },
  {
   "cell_type": "code",
   "execution_count": null,
   "id": "5ff2de8a",
   "metadata": {},
   "outputs": [],
   "source": []
  },
  {
   "cell_type": "code",
   "execution_count": null,
   "id": "ecb12901",
   "metadata": {},
   "outputs": [],
   "source": []
  },
  {
   "cell_type": "code",
   "execution_count": null,
   "id": "3133e92b",
   "metadata": {},
   "outputs": [],
   "source": []
  },
  {
   "cell_type": "code",
   "execution_count": null,
   "id": "d7997ae0",
   "metadata": {},
   "outputs": [],
   "source": []
  },
  {
   "cell_type": "code",
   "execution_count": null,
   "id": "c2fd6750",
   "metadata": {},
   "outputs": [],
   "source": []
  },
  {
   "cell_type": "code",
   "execution_count": null,
   "id": "f5109ee4",
   "metadata": {},
   "outputs": [],
   "source": []
  },
  {
   "cell_type": "code",
   "execution_count": null,
   "id": "bc9eed8c",
   "metadata": {},
   "outputs": [],
   "source": []
  },
  {
   "cell_type": "code",
   "execution_count": null,
   "id": "9c1378bd",
   "metadata": {},
   "outputs": [],
   "source": []
  },
  {
   "cell_type": "code",
   "execution_count": null,
   "id": "b9db8c26",
   "metadata": {},
   "outputs": [],
   "source": []
  },
  {
   "cell_type": "code",
   "execution_count": null,
   "id": "49655a1c",
   "metadata": {},
   "outputs": [],
   "source": []
  },
  {
   "cell_type": "code",
   "execution_count": null,
   "id": "62150265",
   "metadata": {},
   "outputs": [],
   "source": []
  },
  {
   "cell_type": "code",
   "execution_count": null,
   "id": "581a8cba",
   "metadata": {},
   "outputs": [],
   "source": []
  },
  {
   "cell_type": "code",
   "execution_count": null,
   "id": "9701056d",
   "metadata": {},
   "outputs": [],
   "source": []
  },
  {
   "cell_type": "code",
   "execution_count": null,
   "id": "3626b6b0",
   "metadata": {},
   "outputs": [],
   "source": []
  },
  {
   "cell_type": "code",
   "execution_count": null,
   "id": "9fd87536",
   "metadata": {},
   "outputs": [],
   "source": []
  },
  {
   "cell_type": "code",
   "execution_count": null,
   "id": "078a650e",
   "metadata": {},
   "outputs": [],
   "source": []
  },
  {
   "cell_type": "code",
   "execution_count": null,
   "id": "5c1c4eca",
   "metadata": {},
   "outputs": [],
   "source": []
  },
  {
   "cell_type": "code",
   "execution_count": null,
   "id": "be5b878e",
   "metadata": {},
   "outputs": [],
   "source": []
  },
  {
   "cell_type": "code",
   "execution_count": null,
   "id": "3a18893f",
   "metadata": {},
   "outputs": [],
   "source": []
  },
  {
   "cell_type": "code",
   "execution_count": null,
   "id": "06113f9b",
   "metadata": {},
   "outputs": [],
   "source": []
  },
  {
   "cell_type": "code",
   "execution_count": null,
   "id": "b6c30fde",
   "metadata": {},
   "outputs": [],
   "source": []
  },
  {
   "cell_type": "code",
   "execution_count": null,
   "id": "9f91cb1e",
   "metadata": {},
   "outputs": [],
   "source": []
  },
  {
   "cell_type": "code",
   "execution_count": null,
   "id": "a5c8f8d6",
   "metadata": {},
   "outputs": [],
   "source": []
  },
  {
   "cell_type": "code",
   "execution_count": null,
   "id": "5bfb1a9b",
   "metadata": {},
   "outputs": [],
   "source": []
  },
  {
   "cell_type": "code",
   "execution_count": 8,
   "id": "25ba53c5",
   "metadata": {},
   "outputs": [],
   "source": [
    "from imblearn.over_sampling import SMOTE\n",
    "sm = SMOTE(sampling_strategy='minority')\n",
    "X, Y= sm.fit_resample(data.iloc[:,0:11],data.iloc[:,11])\n",
    "#X_test, Y_test = sm.fit_resample(X_test,Y_test)\n"
   ]
  },
  {
   "cell_type": "code",
   "execution_count": 9,
   "id": "d8c54560",
   "metadata": {},
   "outputs": [
    {
     "data": {
      "text/plain": [
       "1    319553\n",
       "0    319553\n",
       "Name: Response, dtype: int64"
      ]
     },
     "execution_count": 9,
     "metadata": {},
     "output_type": "execute_result"
    }
   ],
   "source": [
    "Y.value_counts()"
   ]
  },
  {
   "cell_type": "code",
   "execution_count": 10,
   "id": "1ef8e54e",
   "metadata": {},
   "outputs": [],
   "source": [
    "X_train,X_test,Y_train,Y_test = train_test_split(X,Y,test_size=0.2,stratify=Y,random_state=10)"
   ]
  },
  {
   "cell_type": "code",
   "execution_count": 13,
   "id": "53f47707",
   "metadata": {},
   "outputs": [
    {
     "data": {
      "text/plain": [
       "1    63911\n",
       "0    63911\n",
       "Name: Response, dtype: int64"
      ]
     },
     "execution_count": 13,
     "metadata": {},
     "output_type": "execute_result"
    }
   ],
   "source": [
    "Y_test.value_counts()"
   ]
  },
  {
   "cell_type": "code",
   "execution_count": 95,
   "id": "15ec47d6",
   "metadata": {},
   "outputs": [
    {
     "data": {
      "text/plain": [
       "array([0, 1, 0, ..., 1, 1, 1])"
      ]
     },
     "execution_count": 95,
     "metadata": {},
     "output_type": "execute_result"
    }
   ],
   "source": [
    "Y_train.ravel()"
   ]
  },
  {
   "cell_type": "code",
   "execution_count": 17,
   "id": "3004216a",
   "metadata": {},
   "outputs": [],
   "source": [
    "from sklearn.preprocessing import MinMaxScaler\n",
    "scaler  = MinMaxScaler()\n",
    "X_train = scaler.fit_transform(X_train)\n",
    "X_test    = scaler.transform(X_test)"
   ]
  },
  {
   "cell_type": "code",
   "execution_count": 18,
   "id": "9531ed3b",
   "metadata": {},
   "outputs": [
    {
     "name": "stdout",
     "output_type": "stream",
     "text": [
      "Train on 511284 samples\n",
      "Epoch 1/10\n",
      "511284/511284 [==============================] - 51s 100us/sample - loss: 0.3250 - acc: 0.8461\n",
      "Epoch 2/10\n",
      "511284/511284 [==============================] - 51s 100us/sample - loss: 0.3049 - acc: 0.8562\n",
      "Epoch 3/10\n",
      "511284/511284 [==============================] - 51s 99us/sample - loss: 0.3014 - acc: 0.8572\n",
      "Epoch 4/10\n",
      "511284/511284 [==============================] - 50s 98us/sample - loss: 0.2999 - acc: 0.8581\n",
      "Epoch 5/10\n",
      "511284/511284 [==============================] - 54s 105us/sample - loss: 0.2990 - acc: 0.8585\n",
      "Epoch 6/10\n",
      "511284/511284 [==============================] - 50s 98us/sample - loss: 0.2982 - acc: 0.8591\n",
      "Epoch 7/10\n",
      "511284/511284 [==============================] - 51s 100us/sample - loss: 0.2975 - acc: 0.8592\n",
      "Epoch 8/10\n",
      "511284/511284 [==============================] - 51s 101us/sample - loss: 0.2970 - acc: 0.8593\n",
      "Epoch 9/10\n",
      "511284/511284 [==============================] - 51s 99us/sample - loss: 0.2966 - acc: 0.8596\n",
      "Epoch 10/10\n",
      "511284/511284 [==============================] - 50s 99us/sample - loss: 0.2934 - acc: 0.8596\n"
     ]
    },
    {
     "data": {
      "text/plain": [
       "<tensorflow.python.keras.callbacks.History at 0x7f27d343a748>"
      ]
     },
     "execution_count": 18,
     "metadata": {},
     "output_type": "execute_result"
    }
   ],
   "source": [
    "nn.fit((np.array(X_train)),(np.array(Y_train)),batch_size=32,epochs = 10)"
   ]
  },
  {
   "cell_type": "code",
   "execution_count": 49,
   "id": "54419136",
   "metadata": {},
   "outputs": [],
   "source": [
    "pred=nn.predict(X_test)\n",
    "final_pred=np.round(pred)\n",
    "# pred=nn.predict(X_test)\n",
    "# final_pred=[]\n",
    "# for i in pred:\n",
    "#     final_pred.append(np.argmax(i))\n"
   ]
  },
  {
   "cell_type": "code",
   "execution_count": 51,
   "id": "18fc5fde",
   "metadata": {},
   "outputs": [
    {
     "name": "stdout",
     "output_type": "stream",
     "text": [
      "              precision    recall  f1-score   support\n",
      "\n",
      "           0       0.90      0.75      0.82     63911\n",
      "           1       0.78      0.92      0.85     63911\n",
      "\n",
      "    accuracy                           0.83    127822\n",
      "   macro avg       0.84      0.83      0.83    127822\n",
      "weighted avg       0.84      0.83      0.83    127822\n",
      "\n"
     ]
    },
    {
     "data": {
      "image/png": "[encoded data removed]",
      "text/plain": [
       "<Figure size 432x288 with 2 Axes>"
      ]
     },
     "metadata": {
      "needs_background": "light"
     },
     "output_type": "display_data"
    }
   ],
   "source": [
    "measure_accuracy(Y_test,final_pred)"
   ]
  },
  {
   "cell_type": "code",
   "execution_count": null,
   "id": "4f13ab27",
   "metadata": {},
   "outputs": [],
   "source": []
  }
 ],
 "metadata": {
  "kernelspec": {
   "display_name": "Python 3 (ipykernel)",
   "language": "python",
   "name": "python3"
  },
  "language_info": {
   "codemirror_mode": {
    "name": "ipython",
    "version": 3
   },
   "file_extension": ".py",
   "mimetype": "text/x-python",
   "name": "python",
   "nbconvert_exporter": "python",
   "pygments_lexer": "ipython3",
   "version": "3.7.0"
  }
 },
 "nbformat": 4,
 "nbformat_minor": 5
}
